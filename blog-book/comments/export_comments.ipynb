{
 "cells": [
  {
   "cell_type": "markdown",
   "metadata": {},
   "source": [
    "# Chargement des commentaires depuis le xml "
   ]
  },
  {
   "cell_type": "code",
   "execution_count": 1,
   "metadata": {},
   "outputs": [
    {
     "data": {
      "text/plain": [
       "<Element '{http://disqus.com}disqus' at 0x10caa61d0>"
      ]
     },
     "execution_count": 1,
     "metadata": {},
     "output_type": "execute_result"
    }
   ],
   "source": [
    "import xml.etree.ElementTree as ET\n",
    "\n",
    "root = ET.fromstring(open('le-blog-voyage-delida-et-florian-2020-05-10T16 48 25.440680-all.xml').read())\n",
    "\n",
    "root"
   ]
  },
  {
   "cell_type": "markdown",
   "metadata": {},
   "source": [
    "# Extraction des différents threads "
   ]
  },
  {
   "cell_type": "code",
   "execution_count": 2,
   "metadata": {},
   "outputs": [],
   "source": [
    "from collections import defaultdict\n",
    "\n",
    "namespaces = {'dsq': 'http://disqus.com'}\n",
    "\n",
    "threads = defaultdict(list)\n",
    "\n",
    "for post in root.findall('dsq:post', namespaces):\n",
    "    message = post.find('dsq:message', namespaces=namespaces).text\n",
    "    \n",
    "    parent = post.find('dsq:parent', namespaces=namespaces)\n",
    "    if parent is not None:\n",
    "        parent = list(post.find('dsq:parent', namespaces=namespaces).attrib.values())[0]\n",
    "    else:\n",
    "        parent = ''\n",
    "    \n",
    "    author = post.find('dsq:author', namespaces=namespaces).find('dsq:name', namespaces=namespaces).text\n",
    "    \n",
    "    timestamp  = post.find('dsq:createdAt', namespaces=namespaces).text\n",
    "    \n",
    "    thread = list(post.find('dsq:thread', namespaces=namespaces).attrib.values())[0]\n",
    "    \n",
    "    post_id = list(post.attrib.values())[0]\n",
    "    \n",
    "    threads[thread].append((author, timestamp, message, parent, post_id))"
   ]
  },
  {
   "cell_type": "code",
   "execution_count": 3,
   "metadata": {},
   "outputs": [],
   "source": [
    "for thread in threads:\n",
    "    threads[thread] = sorted(threads[thread], key=lambda items: items[3])"
   ]
  },
  {
   "cell_type": "code",
   "execution_count": 4,
   "metadata": {},
   "outputs": [
    {
     "data": {
      "text/plain": [
       "[('Rola Priatel',\n",
       "  '2018-10-28T00:40:10Z',\n",
       "  '<p>So nice to read and see Beautiful British Columbia through your eyes! It was such joy to have you and Elida here for two weeks from the moment you landed and I drove the car without the keys until you had to hop in a car and drive us and our friends to the Belgian Restaurant Chambar ( an institution here in Vancouver for years) and we made you join us before you headed back to the house...and all the wonderful guitar lessons and life lessons you ended up teaching our boys by them just hanging out with you! We will never forget those beautiful days and we still talk about you two! Now on this blog you were too modest in not writing more about the treacherous Grouse Grind and you must have a photo from the top after you finished  the straight vertical climb!  Also I wish we had a photo of the full turkey on the Thanksgiving photo 😄 <br>As you say it was a shame that we didn’t get the chance to go to the island and the Juan de Fuca passage , but that’s for your next time! Start planning! Bon Voyage pour le reste de votre adventures...Love from the Priatel’s</p>',\n",
       "  '',\n",
       "  '4166282063')]"
      ]
     },
     "execution_count": 4,
     "metadata": {},
     "output_type": "execute_result"
    }
   ],
   "source": [
    "threads[thread]"
   ]
  },
  {
   "cell_type": "markdown",
   "metadata": {},
   "source": [
    "# Construction d'un arbre  "
   ]
  },
  {
   "cell_type": "code",
   "execution_count": 5,
   "metadata": {},
   "outputs": [],
   "source": [
    "from anytree import Node, findall, RenderTree"
   ]
  },
  {
   "cell_type": "code",
   "execution_count": 6,
   "metadata": {},
   "outputs": [],
   "source": [
    "thread_roots = []\n",
    "for key, posts in threads.items():\n",
    "    thread_root = Node(key)\n",
    "    posts = posts[:]\n",
    "    while len(posts) > 0:\n",
    "        author, timestamp, message, parent, post_id = posts.pop(0)\n",
    "        if parent == '': # toplevel, create a node\n",
    "            n = Node(post_id, parent=thread_root)\n",
    "            n.author = author\n",
    "            n.timestamp = timestamp\n",
    "            n.message = message\n",
    "        else:\n",
    "            search = findall(thread_root, filter_=lambda node: node.name in (parent))\n",
    "            if len(search) > 0:\n",
    "                assert len(search) == 1\n",
    "                parent = search[0]\n",
    "                n = Node(post_id, parent=parent)\n",
    "                n.author = author\n",
    "                n.timestamp = timestamp\n",
    "                n.message = message\n",
    "            else:\n",
    "                posts.append((author, timestamp, message, parent, post_id))\n",
    "    thread_roots.append(thread_root)"
   ]
  },
  {
   "cell_type": "code",
   "execution_count": 7,
   "metadata": {},
   "outputs": [
    {
     "name": "stdout",
     "output_type": "stream",
     "text": [
      "Node('/6645732233')\n",
      "├── Node('/6645732233/3882847907', author='Thibaud', message=\"<p>Ça a l'air de bien fonctionner mais peut-être que tu auras envie de modifier ton CSS pour centrer les photos et les espacer légèrement :D Tu pourrais faire un article sur le CSS ensuite :)</p>\", timestamp='2018-05-02T16:40:25Z')\n",
      "│   └── Node('/6645732233/3882847907/3885383220', author='Florian LB', message='<p>Salut Thibaud ! Déjà, merci pour le commentaire. Bravo, tu es le premier ! Le CSS, c\\'est un sujet sensible, mais j\\'ai demandé à une experte de nous prêter main forte pour améliorer ça. L\\'idée de faire un article sur \"comment ce blog est fait\" me trotte dans la tête, mais je vais sans doute attendre encore pas mal de temps avant de l\\'écrire. A bientôt !</p>', timestamp='2018-05-04T08:37:24Z')\n",
      "├── Node('/6645732233/3883874178', author='ZRC', message=\"<p>Tu trouveras peut-être que la photographie, c'est comme l'optimisation : quand on optimise dans un ensemble limité de solutions, l'optimum est facile à atteindre, mais quand on passe dans un ensemble plus vaste et plus proche des optima globaux (un meilleur appareil photo), le problème est plus difficile... C'est un équilibre à améliorer entre qualité d'approximation et performance d'estimation, quoi.</p>\", timestamp='2018-05-03T08:54:38Z')\n",
      "│   └── Node('/6645732233/3883874178/3885387584', author='Florian LB', message=\"<p>Salut ZRC. Tu inaugures avec brio les commentaires à base d'analogies mathématiques ! Je commence à voir la photographie d'un autre œil en tout cas. Maintenant, à l'attaque de ce nouvel espace...</p>\", timestamp='2018-05-04T08:43:05Z')\n",
      "└── Node('/6645732233/3922772477', author='Michael', message='<p><a href=\"https://uploads.disquscdn.com/images/d3d52c79db3c778c55746cf8982dd515cea75ba04db4e5912de5a2f20df6195c.png\" rel=\"nofollow noopener\" title=\"https://uploads.disquscdn.com/images/d3d52c79db3c778c55746cf8982dd515cea75ba04db4e5912de5a2f20df6195c.png\">https://uploads.disquscdn.c...</a></p>', timestamp='2018-05-29T21:59:54Z')\n",
      "    └── Node('/6645732233/3922772477/3926185176', author='Florian LB', message='<p>Haha. On attend des commentaires \"photos\" de ta part sous chaque article maintenant ! :-)</p>', timestamp='2018-06-01T08:55:11Z')\n"
     ]
    }
   ],
   "source": [
    "print(RenderTree(thread_roots[0]))"
   ]
  },
  {
   "cell_type": "code",
   "execution_count": 8,
   "metadata": {},
   "outputs": [
    {
     "data": {
      "text/plain": [
       "(Node('/6645732233/3882847907', author='Thibaud', message=\"<p>Ça a l'air de bien fonctionner mais peut-être que tu auras envie de modifier ton CSS pour centrer les photos et les espacer légèrement :D Tu pourrais faire un article sur le CSS ensuite :)</p>\", timestamp='2018-05-02T16:40:25Z'),\n",
       " Node('/6645732233/3882847907/3885383220', author='Florian LB', message='<p>Salut Thibaud ! Déjà, merci pour le commentaire. Bravo, tu es le premier ! Le CSS, c\\'est un sujet sensible, mais j\\'ai demandé à une experte de nous prêter main forte pour améliorer ça. L\\'idée de faire un article sur \"comment ce blog est fait\" me trotte dans la tête, mais je vais sans doute attendre encore pas mal de temps avant de l\\'écrire. A bientôt !</p>', timestamp='2018-05-04T08:37:24Z'),\n",
       " Node('/6645732233/3883874178', author='ZRC', message=\"<p>Tu trouveras peut-être que la photographie, c'est comme l'optimisation : quand on optimise dans un ensemble limité de solutions, l'optimum est facile à atteindre, mais quand on passe dans un ensemble plus vaste et plus proche des optima globaux (un meilleur appareil photo), le problème est plus difficile... C'est un équilibre à améliorer entre qualité d'approximation et performance d'estimation, quoi.</p>\", timestamp='2018-05-03T08:54:38Z'),\n",
       " Node('/6645732233/3883874178/3885387584', author='Florian LB', message=\"<p>Salut ZRC. Tu inaugures avec brio les commentaires à base d'analogies mathématiques ! Je commence à voir la photographie d'un autre œil en tout cas. Maintenant, à l'attaque de ce nouvel espace...</p>\", timestamp='2018-05-04T08:43:05Z'),\n",
       " Node('/6645732233/3922772477', author='Michael', message='<p><a href=\"https://uploads.disquscdn.com/images/d3d52c79db3c778c55746cf8982dd515cea75ba04db4e5912de5a2f20df6195c.png\" rel=\"nofollow noopener\" title=\"https://uploads.disquscdn.com/images/d3d52c79db3c778c55746cf8982dd515cea75ba04db4e5912de5a2f20df6195c.png\">https://uploads.disquscdn.c...</a></p>', timestamp='2018-05-29T21:59:54Z'),\n",
       " Node('/6645732233/3922772477/3926185176', author='Florian LB', message='<p>Haha. On attend des commentaires \"photos\" de ta part sous chaque article maintenant ! :-)</p>', timestamp='2018-06-01T08:55:11Z'))"
      ]
     },
     "execution_count": 8,
     "metadata": {},
     "output_type": "execute_result"
    }
   ],
   "source": [
    "thread_roots[0].descendants"
   ]
  },
  {
   "cell_type": "markdown",
   "metadata": {},
   "source": [
    "# Export des threads vers du html "
   ]
  },
  {
   "cell_type": "code",
   "execution_count": 9,
   "metadata": {},
   "outputs": [],
   "source": [
    "import pandas as pd\n",
    "from collections import OrderedDict\n",
    "\n",
    "htmls = OrderedDict()\n",
    "for thread_root in thread_roots:\n",
    "    html = \"<h2>Commentaires</h2><ul>\"\n",
    "    for post in thread_root.descendants:\n",
    "        timestamp = pd.Timestamp(post.timestamp).to_pydatetime().strftime('%Y-%m-%d %Hh%M')\n",
    "        html += f\"<li><div>{post.author}, <em>{timestamp}</em></div>\"\n",
    "        html += f\"<p>{post.message}</p></li>\"\n",
    "    html += \"</ul>\"\n",
    "    htmls[thread_root.name] = html"
   ]
  },
  {
   "cell_type": "markdown",
   "metadata": {},
   "source": [
    "# Preview de tous les commentaires "
   ]
  },
  {
   "cell_type": "code",
   "execution_count": 10,
   "metadata": {},
   "outputs": [
    {
     "data": {
      "text/html": [
       "<h2>Commentaires</h2><ul><li><div>Thibaud, <em>2018-05-02 16h40</em></div><p><p>Ça a l'air de bien fonctionner mais peut-être que tu auras envie de modifier ton CSS pour centrer les photos et les espacer légèrement :D Tu pourrais faire un article sur le CSS ensuite :)</p></p></li><li><div>Florian LB, <em>2018-05-04 08h37</em></div><p><p>Salut Thibaud ! Déjà, merci pour le commentaire. Bravo, tu es le premier ! Le CSS, c'est un sujet sensible, mais j'ai demandé à une experte de nous prêter main forte pour améliorer ça. L'idée de faire un article sur \"comment ce blog est fait\" me trotte dans la tête, mais je vais sans doute attendre encore pas mal de temps avant de l'écrire. A bientôt !</p></p></li><li><div>ZRC, <em>2018-05-03 08h54</em></div><p><p>Tu trouveras peut-être que la photographie, c'est comme l'optimisation : quand on optimise dans un ensemble limité de solutions, l'optimum est facile à atteindre, mais quand on passe dans un ensemble plus vaste et plus proche des optima globaux (un meilleur appareil photo), le problème est plus difficile... C'est un équilibre à améliorer entre qualité d'approximation et performance d'estimation, quoi.</p></p></li><li><div>Florian LB, <em>2018-05-04 08h43</em></div><p><p>Salut ZRC. Tu inaugures avec brio les commentaires à base d'analogies mathématiques ! Je commence à voir la photographie d'un autre œil en tout cas. Maintenant, à l'attaque de ce nouvel espace...</p></p></li><li><div>Michael, <em>2018-05-29 21h59</em></div><p><p><a href=\"https://uploads.disquscdn.com/images/d3d52c79db3c778c55746cf8982dd515cea75ba04db4e5912de5a2f20df6195c.png\" rel=\"nofollow noopener\" title=\"https://uploads.disquscdn.com/images/d3d52c79db3c778c55746cf8982dd515cea75ba04db4e5912de5a2f20df6195c.png\">https://uploads.disquscdn.c...</a></p></p></li><li><div>Florian LB, <em>2018-06-01 08h55</em></div><p><p>Haha. On attend des commentaires \"photos\" de ta part sous chaque article maintenant ! :-)</p></p></li></ul><h2>Commentaires</h2><ul><li><div>kje, <em>2018-05-03 13h59</em></div><p><p>Un conseil : laissez tomber les citations de citations d'obscurs ornithologues qui n'intéressent que l'élite germanopratine dont Florian est la coqueluche. Si vous voulez qu'on lise votre blog avec plus d'entrain que les mails de Sarah Dobigny sur l'avancement des travaux à nanoInnov, donnez-nous votre opinion sur le hezbollah ou parlez-nous de l'évolution du marché de l'emploi sur l'île de Paques... Soyez disruptifs...</p></p></li><li><div>Florian LB, <em>2018-05-04 08h48</em></div><p><p>Cher KJE, merci pour cet encouragement qui va sans aucun doute nous tirer vers le haut (pas comme les ornithologues du XIIème siècle hein, tu as bien raison). Etant donné qu'on vient juste d'arriver au Liban, je ne peux pas encore te parler avec confiance du Hezbollah, mais les élections de ce week-end nous donneront, je l'espère, de quoi assouvir tes envies de news disruptives. On te tient au jus.</p></p></li></ul><h2>Commentaires</h2><ul><li><div>Thibaud, <em>2018-05-04 12h06</em></div><p><p>Qu'est-ce que l'objet bleu devant Elida ? Ne serait-ce pas un gros sac de cabine où elle a pu caser les grammes qui manquent ? :D</p></p></li><li><div>Jojo, <em>2018-05-05 11h09</em></div><p><p>j'espère qu'elle a donné 100g à Flo surtout ;)</p></p></li><li><div>Florian LB, <em>2018-05-05 20h25</em></div><p><p>Oui, mais c'est elle qui porte l'ordinateur :) en vrai, on était surpris du fait que les gros sacs ne faisaient que 12 kilos !</p></p></li><li><div>Florian LB, <em>2018-05-05 20h22</em></div><p><p>Thibaud, quel œil de lynx ! C'est vrai qu'on a un peu exagéré, car nos petits sacs pesaient bien cinq kilos supplémentaires (Elida me souffle qu'on emportait aussi des cadeaux... dont on va se délester à la première étape).</p></p></li></ul><h2>Commentaires</h2><ul><li><div>François Baqué, <em>2018-05-08 06h57</em></div><p><p>Bonjour depuis la Provence où la météo reste bien variable et fraiche... mois de mai hyper calme avec tous nos ponts et viaducs...<br>Merci pour votre reportage libanais, au pays des cèdres majestueux et millénaires.<br>Irez-vous à Byblos ? Ruines entremêlées sur 2000 ans d'histoire : des phéniciens aux croisés puis aux temps modernes !<br>Vous êtes au cœur de l'origine de notre civilisation méditerranéenne :  le barycentre (on reste dans les maths ?) de la culture mondiale actuelle (hors Chine : chaque chose en son temps).<br>A très bientôt.<br>François</p></p></li><li><div>Florian LB, <em>2018-05-09 09h43</em></div><p><p>Bonjour François, merci pour ton message. Nous sommes passés en coup de vent à Byblos, mais nous y retournerons sans doute. Effectivement, les traces historiques sont très nombreuses au Liban et elles s'étalent sur des centaines et des centaines d'années, à ne plus savoir quelle époque on est en train de regarder. Concernant la météo, elle s'est nettement rafraîchie dans la vallée de la Bekaa depuis les lignes écrites ci-dessus...<br>A bientôt,<br>Florian</p></p></li></ul><h2>Commentaires</h2><ul><li><div>Thibaud, <em>2018-05-23 07h56</em></div><p><p>T'as pas une petite vidéo de Flo au volant ? :D</p></p></li><li><div>Elida, <em>2018-05-24 19h39</em></div><p><p>Je te trouve ça sous peu ;)</p></p></li><li><div>pythux, <em>2018-05-31 10h26</em></div><p><p>Je me demande pourquoi Flo est surpris quand les gens doublent par la droite. C'est pas comme ça qu'on fait à Paris aussi ? :p</p></p></li><li><div>Elida, <em>2018-05-31 11h21</em></div><p><p>Flo ne conduit pas à Paris ;)</p></p></li><li><div>Florian LB, <em>2018-05-30 08h24</em></div><p><p>On t'as préparé ça et mis à la fin de l'article ^^</p></p></li><li><div>Thibaud, <em>2018-05-30 09h41</em></div><p><p>PARFAIT ! =D</p></p></li></ul><h2>Commentaires</h2><ul><li><div>Thibaud, <em>2018-05-23 07h59</em></div><p><p>Ah ba finalement on prend le bus ! :)</p></p></li><li><div>Florian LB, <em>2018-05-26 09h57</em></div><p><p>Et pas n'importe quel bus ! Dire qu'on est arrivés en klaxonnant le bus sur l'autoroute pour qu'il s'arrête et qu'il nous laisse monter à bord. #seulementAuLiban ? (je n'imagine pas ça arriver en France où j'ai vu des bus partir alors même que j'arrivais en courant derrière eux)</p></p></li><li><div>pythux, <em>2018-05-31 10h16</em></div><p><p>Arriver en courant vers le Bus, c'est déjà avoir perdu Flo :P Tu sais ce qui va se passer ensuite. A Paris les chauffeurs de bus ne sont pas tri polis !</p></p></li><li><div>Florian LB, <em>2018-06-01 09h01</em></div><p><p>Haha ben c'est sûr que ça n'a rien à voir avec Paris. C'est bien plus pratique comme ça :-D</p></p></li></ul><h2>Commentaires</h2><ul><li><div>Thibaud, <em>2018-05-24 16h06</em></div><p><p>C'est le genre d'article qui me donne envie de partir :D<br>Merci pour les légendes ! N'oubliez pas quand même qu'on a des fraises et des pommes chez nous. On dirait la documentation d'Alex sur un constructeur : \"// Constructor.\"<br>(Ceci est un test pour voir si l'intéressé parcourt votre blog :p)</p></p></li><li><div>Florian LB, <em>2018-05-26 09h55</em></div><p><p>Haha c'est le genre de réaction qu'on espérait provoquer ;)<br>On oublie pas qu'on a des pommes et des fraises en France, c'est juste qu'on n'arrive pas à ne pas être exhaustifs dans notre collecte de photos ^^<br>Pour l'instant je n'ai pas encore eu de commentaire de la part d'Alex, mais j'imagine que ça ne va pas tarder...</p></p></li><li><div>kje, <em>2018-05-28 21h09</em></div><p><p>Du coup, une préférence entre le taboulé de la cantine 3 et celui que tu manges au Liban ?</p></p></li><li><div>Florian LB, <em>2018-06-01 08h51</em></div><p><p>Rien à voir ! Mais j'imagine que tu connaissais déjà la réponse à cette question... Pour ceux qui n'ont pas été confronté à cette expérience : \"taboulé\" est un terme qui recouvre un grand nombre de plats très différents les uns des autres. Il faudrait sans doute exiger un adjectif obligatoire quand on l'utilise pour éviter les ambiguïtés.</p></p></li><li><div>pythux, <em>2018-05-31 10h15</em></div><p><p>Excellent Flo ! Ça fait saliver tout ça :) Ça me rappel le classique \"dîner chez les potes indiens\" : \"Allez on passe à table ?\"; \"Quoi ? Je croyais qu'on avait fini là\", et \"hé non, c'était l'apéritif !\"... Je me fait avoir à chaque fois.</p></p></li><li><div>Florian LB, <em>2018-06-01 08h53</em></div><p><p>Je ne savais pas que la gastronomie indienne avait ce point commun avec la libanaise. C'est ça de faire des plats apéritifs trop bons...</p></p></li><li><div>Timothée Nicolas, <em>2018-06-03 20h56</em></div><p><p>Omg ça a l'air tellement bon ! C'était bon la barbaque crue ? J'avais toujours eu du mal à imaginer quand Farah disait qu'elle bouffait du foie d'agneau cru au petit déj. T'as goûté ? C'est bon ?</p></p></li><li><div>Florian LB, <em>2018-06-04 06h56</em></div><p><p>J'ai seulement goûté et il faut dire que cela a un goût assez fort. Donc je n'irais pas jusqu'à dire que j'ai apprécié. Heureusement que ce n'était pas au petit déjeuner mais au déjeuner chez nous...</p></p></li></ul><h2>Commentaires</h2><ul><li><div>Thibaud, <em>2018-05-29 19h08</em></div><p><p>Dis-toi que bientôt des milliers de fan de foot vont se dire exactement la même chose ^^ Ce qui est très bon pour la Russie. Perso ça me fait plaisir !</p></p></li><li><div>pythux, <em>2018-05-31 10h18</em></div><p><p>Pourquoi les fans de foot se diraient \"prolétaires unissez-vous\" ? :p Le foot n'intéresse pas que les prolétaires !!</p></p></li><li><div>Thibaud, <em>2018-06-25 20h40</em></div><p><p>On voit les mecs qui ne lisent que le titre avant de filer aux commentaires ^^</p></p></li><li><div>pythux, <em>2018-06-25 20h44</em></div><p><p>Le contenu de l'article n'est qu'on prétexte ! Les commentaires, c'est là que tout se passe !</p></p></li><li><div>pythux, <em>2018-05-31 10h25</em></div><p><p>On ne m’ôtera pas de l'idée, que tout ceci date de l'époque où ils con-solidaient une certaine idéologie en con-struisant des statues partout. La fameuse con-stellation de la grande URSS.</p></p></li></ul><h2>Commentaires</h2><ul><li><div>ZRC, <em>2018-06-03 15h48</em></div><p><p>Moi je dis que la statue de la photo 23 ne repose pas exactement sur l'eau... Flo aurait pu citer un texte qu'on a vu en cours de russe, qui disait que la vie était dure et qu'on ne souriait pas pour rien en Russie.</p></p></li><li><div>Thibaud, <em>2018-06-03 17h59</em></div><p><p>C'est vrai que la photo 23 est chelou.<br>J'avais lu à peu près la même chose sur les sourires en Russie : on ne sourit pas juste par politesse, ça peut d'ailleurs être considéré comme offensant !</p></p></li><li><div>Florian LB, <em>2018-06-03 21h04</em></div><p><p>Je ne savais pas tout ça. Du coup, je viens de taper la requête dans mon moteur de recherche favori et il semble que le sourire russe soit un point d'interrogation pour beaucoup de gens. Me voilà rassuré. :-)</p></p></li><li><div>Florian LB, <em>2018-06-03 20h52</em></div><p><p>Ah zut, je ne m'en souviens pas ! Tu crois que tu peux retrouver le texte et le mettre ici ?</p><p>En tout cas bravo, tu as trouvé la photo truquée ! On a utilisé un écran de smartphone pour donner un reflet de ciel à l'image.</p></p></li><li><div>Timothée Nicolas, <em>2018-06-03 21h05</em></div><p><p>C'est magnifique et très intéressant ! On a hâte d'en savoir plus !</p></p></li></ul><h2>Commentaires</h2><ul><li><div>Pierre Guérold, <em>2018-06-07 20h57</em></div><p><p>Et voilà que je me retrouve à lire un article sur le levage des pierres dans l'antiquité.... <br>C'est juste wahou votre voyage.<br>Merci :)<br>Pierre</p></p></li><li><div>Florian LB, <em>2018-06-08 18h11</em></div><p><p>Trop cool ! Je me demandais qui allait être assez courageux pour cliquer sur le lien. J'ai trouvé ce sujet très intéressant, mais j'ai pas tout compris. Alors j'espère qu'on pourra en reparler quand on sera rentré ! A bientôt !</p></p></li></ul><h2>Commentaires</h2><ul><li><div>ZRC, <em>2018-06-19 21h40</em></div><p><p>Deux jours par endroit, c'est rudement rapide ! Content que vous ayez aimé la découverte du canard laqué. Vous saurez donc comment manger la prochaine fois que vous viendrez dîner...</p></p></li><li><div>Florian LB, <em>2018-06-24 09h37</em></div><p><p>Salut Ruo ! Je note donc que tu prévois de nous inviter à dîner du canard de retour en France, ce sera avec grand plaisir ^^<br>Merci pour tous tes conseils tout au long de notre (court) passage en Chine !</p></p></li><li><div>Thibaud, <em>2018-06-25 20h28</em></div><p><p>C'est marrant que vous vous soyez retrouvés au Red Lantern ! :) Récemment on a retrouvé un couple de parisiens qu'on avait croisé là-bas et on a reparlé d'un jeune chinois un peu chelou qui trainait tous les soirs à l'auberge, et qui s'intéressait beaucoup aux programmes des uns et des autres (\"Vous partez demain ? Vous allez où ?\"). Est-ce que vous l'avez rencontré ? :D</p></p></li><li><div>Elida, <em>2018-07-10 03h49</em></div><p><p>Nop, on n'a pas eu cette chance, mais on a eu le même modèle à l'auberge à Luoyang ^^</p></p></li><li><div>pythux, <em>2018-06-25 21h03</em></div><p><p>Très impressionnante cette muraille, ça force le respect... Est-ce que vous pouvez vous balader sur n'importe quelle section ? Ou y a-t-il une zone délimitée accessible ?</p></p></li><li><div>Elida, <em>2018-07-10 03h48</em></div><p><p>Je pense qu'il y a des sections trop dangereuses pour y accéder (elle est quasiment enfouie à certains endroits). Après y a les sections non rénovées comme celle où on est allés, qui méritent amplement l'investissement en temps et en énergie pour y arriver. Et puis il y a les sections proches de Pékin, toutes rénovées, mais qu'il faut partager avec des dizaines de milliers de touristes quotidiens, ce qui casse un peu le charme...</p></p></li></ul><h2>Commentaires</h2><ul><li><div>Thibaud, <em>2018-06-25 20h42</em></div><p><p>Coucou Longhui si tu passes par là :)<br>La rue des stands de bouffe à Luoyang : miam. Un des rares endroits où on avait réussi à comprendre ce qu'on commandait :D Apparemment ça s'est mieux passé pour vous !</p></p></li><li><div>Elida, <em>2018-06-26 00h44</em></div><p><p>Ça commençait bien oui, on a mangé une délicieuse soupe (celle avec le pain à émietter dessus), où le serveur se vantait d'être passé sur CCTV grâce à ce plat !<br>Mais tout s'est écroulé au moment où on a commandé une salade de fruits sur un stand et que la vendeuse l'a allègrement assaisonnée....de mayonnaise ! :'D</p></p></li><li><div>ZRC, <em>2018-07-02 14h35</em></div><p><p>La \"salade\" est un exemple typique d'interprétation culinaire. Mon grand-père en faisait déjà dans mon enfance en disant que c'était un plat occidental.</p></p></li><li><div>Elida, <em>2018-07-10 03h44</em></div><p><p>Avec la mayo ? 😱</p></p></li><li><div>ZRC, <em>2018-07-10 07h32</em></div><p><p>Oui, avec une sorte de mayo.</p></p></li><li><div>FalafelDeNataDu75, <em>2018-07-01 21h23</em></div><p><p>Coucou,</p><p>On m'informe à l'instant que les toilettes à la turque seraient en fait originaires de Belgique. Les Turcs n'auraient fait qu'ajouter le trou. Bisous.</p></p></li><li><div>Florian LB, <em>2018-07-10 03h49</em></div><p><p>Merci, cher FalafelDeNataDu75. Nous avons soumis ton information au guide volontaire du musée d'Edo Tokyo, qui était persuadé jusque là que c'était les japonais qui avaient inventé les toilettes à la turque. Il nous a promis de mener des nouvelles recherches pour élucider ce mystère !</p></p></li></ul><h2>Commentaires</h2><ul><li><div>pythux, <em>2018-06-25 20h46</em></div><p><p>C'est donc comme ça que ça s'écrit...</p></p></li><li><div>Elida, <em>2018-07-10 03h43</em></div><p><p>Comme ça se prononce ! ;)</p></p></li></ul><h2>Commentaires</h2><ul><li><div>pythux, <em>2018-06-25 20h47</em></div><p><p>Heureux d'apprendre que vous n'y êtes pas arrivé à pieds!</p></p></li><li><div>Florian LB, <em>2018-07-10 03h50</em></div><p><p>Puisqu'on te dit qu'on est arrivés en avion... :-D</p></p></li></ul><h2>Commentaires</h2><ul><li><div>Thibaud, <em>2018-07-23 15h30</em></div><p><p>Ça a vraiment l'air top le Japon, les châteaux sont superbes ! Les noodles cups ont fini de me convaincre :D</p></p></li><li><div>Florian LB, <em>2018-07-23 23h39</em></div><p><p>Tu n'es pas le seul à être convaincu par les pâtes instantanées 😉<br>Le musée propose d'ailleurs en plus de l'atelier décoration un cours de fabrication des ramen qui est tellement populaire qu'il faut réserver un mois à l'avance (prochain place dispo actuellement : septembre) ! <a href=\"https://www.cupnoodles-museum.jp/reservation/osaka_ikeda/\" rel=\"nofollow noopener\" title=\"https://www.cupnoodles-museum.jp/reservation/osaka_ikeda/\">https://www.cupnoodles-muse...</a></p></p></li></ul><h2>Commentaires</h2><ul><li><div>ZRC, <em>2018-07-31 16h13</em></div><p><p>Mais, je n'aperçois pas ces fameux koalas que vous avez vus !<br>Et je me permets de signaler que la star de la photo 2 n'est pas un végétal...</p></p></li><li><div>Florian LB, <em>2018-08-01 02h24</em></div><p><p>Salut Ruocong ! Quelle lecture attentive ! Concernant les koalas, il semblerait qu'Elida prépare un billet spécial sur la faune australienne. Peut être y figureront ils ? Quant au végétal qui n'en est pas un, je serais ravi que tu éclaire ma lanterne proverbiale. C'est quoi ?</p></p></li><li><div>ZRC, <em>2018-08-01 12h32</em></div><p><p>Il me semble que ce sont des champignons (du règne des Fungi, ou Mycètes), non ? Visuellement les recherches semblent pointer vers Trametes versicolor.</p></p></li><li><div>Florian LB, <em>2018-08-02 10h41</em></div><p><p>Ça y ressemble en effet ! Je ne savais pas que les champignons étaient un règne à part, voilà pour ma culture générale...</p></p></li><li><div>Thibaud, <em>2018-08-07 11h16</em></div><p><p>Je dirais que le mont éléphant ressemble à un éléphant, mais ça paraît trop simple o_O<br>Vous dormiez où sur la route ? En auberge ?</p></p></li><li><div>Florian LB, <em>2018-08-08 08h01</em></div><p><p>Haha ben on est d'accord avec toi pour l'explication, même si on a pas de source plus fiable !<br>On a pris des locations Airbnb et une auberge de jeunesse sur le chemin.</p></p></li><li><div>Franck Mazas, <em>2018-08-14 10h50</em></div><p><p>La reconversion en coastal engineer me paraît inévitable.</p></p></li><li><div>Florian LB, <em>2018-08-16 07h35</em></div><p><p>Haha ce n'est pourtant pas la seule possibilité...</p></p></li></ul><h2>Commentaires</h2><ul><li><div>Franck Mazas, <em>2018-08-14 10h47</em></div><p><p>Emu, en bon français, c'est plutôt émeu. Mettons ça sur le compte de l'émotion !<br>Je suggérerais bien le développement d'un script Python pour la reconnaissance automatique des volatiles à partir d'une base de données, mais j'aurais trop peur que les pythons bouffent les oiseaux, c'est bien connu.</p></p></li><li><div>Florian LB, <em>2018-08-16 07h39</em></div><p><p>Aaaah c'est pour ce genre de précision qu'on apprécie tes commentaires Franck ! Merci, je vais essayer de corriger ça. Quant au script python, il va devoir attendre je suis encore en vacances pour 3 mois :)</p></p></li><li><div>Didier VEZINET, <em>2018-08-29 20h17</em></div><p><p>Le truc ou tu sêches c'est pas une variété de héron ?<br>Ils sont trop mignons les wallabies :-)</p></p></li><li><div>Florian LB, <em>2018-09-02 00h07</em></div><p><p>Des hérons... possible !<br>C'est sûr que les wallabies et les kangourous, on les aurait bien approchés de plus près. Mais ils sont trop timides !</p></p></li></ul><h2>Commentaires</h2><ul><li><div>ZRC, <em>2018-08-17 09h28</em></div><p><p>Vous avez su capturer la splendeur de ces paysages et lieux chers à Gauguin (même si sa vie y avait l'air plutôt mouvementée) ! On (je) rêve maintenant de vos futures photos de Voie Lactée illuminant le ciel nocturne.</p><p>En parlant de raie pastenague, il y a justement des campagnes de sensibilisation en ce moment sur les plages méditerranéennes pour que les baigneurs évitent de se faire piquer.</p></p></li><li><div>Florian LB, <em>2018-08-28 12h37</em></div><p><p>Merci pour le compliment ! La vie de Gauguin semble avoir été une sacrée aventure. On trouve d'ailleurs des biographies avec de belles illustrations un peu partout dans les magasins de souvenirs.</p></p></li></ul><h2>Commentaires</h2><ul><li><div>Thibaud, <em>2018-09-16 08h55</em></div><p><p>Super belles ces photos en effet 😍<br>Les salars et la vallée de la Lune... je prends mon billet 😜</p></p></li><li><div>Florian LB, <em>2018-09-16 19h40</em></div><p><p>Haha si il te reste des vacances à prendre, ça vaut le coup en effet ! La vallée de la Lune c'est vraiment très beau...</p></p></li><li><div>pythux, <em>2018-10-09 19h39</em></div><p><p>La vallée de la Lune, vous y êtes allé avec la Polo ?</p></p></li><li><div>Florian LB, <em>2018-10-12 19h53</em></div><p><p>Oui, mais attention dans les virages, car ça turne ! (je crois que c'est copyright Franck mais bon)</p></p></li><li><div>ZRC, <em>2018-09-17 10h47</em></div><p><p>Malheureux, évitez de dire \"pacifier la région des rebelles indigènes\" à de vrais Chiliens ! C'est plutôt \"envahir la région et dominer les peuples indigènes\"... D'ailleurs, par rapport à notre discussion sur l'origine du merquén/merken, ça vient en fait du mapuche, pas des colons allemands.</p><p>Photo 48 : Whooaaa<br>Photo 52 : Je dis vicuña ! Je crois que c'est que j'avais vu aussi sur les hauts plateaux et l'alpaca est plutôt laineux.<br>Et je me permets d'insister, le Sud du pays vaut tout autant le détour !</p></p></li><li><div>Florian LB, <em>2018-09-18 12h49</em></div><p><p>Effectivement le mot pacifier vient directement du point de vue des conquérants, ce qui n'était pas forcément notre intention. L'histoire est malheureusement écrite par le vainqueur...<br>Tu remportes le premier prix de notre challenge Llama pour ton identification réussie !</p></p></li><li><div>pythux, <em>2018-10-09 19h38</em></div><p><p>En même temps, on leur avait bien dit qu'il fallait pas s'y fier...</p></p></li></ul><h2>Commentaires</h2><ul><li><div>Thibaud, <em>2018-10-02 17h34</em></div><p><p>Je vois qu'on a photographié les verres de vin vides ! Difficile à croire :)</p></p></li><li><div>Florian LB, <em>2018-10-04 07h16</em></div><p><p>Sans doute une erreur de timing pour la photo ;-)</p></p></li><li><div>pythux, <em>2018-10-09 19h56</em></div><p><p>Chili en verlant ça fait Lichi...</p></p></li><li><div>Florian LB, <em>2018-10-12 19h58</em></div><p><p>Ça non plus on en a pas vus beaucoup.</p></p></li><li><div>pythux, <em>2018-10-09 19h56</em></div><p><p>C'est étrange, je me serais attendu à voir une Synagogue à Arquipa !</p></p></li><li><div>Florian LB, <em>2018-10-12 19h57</em></div><p><p>Et pourtant on en a pas vue.</p></p></li><li><div>pythux, <em>2018-10-09 19h57</em></div><p><p>Lorsque vous reviendrez, n'oubliez pas de traverser le Titicaca en Tutu kaki !</p></p></li><li><div>Florian LB, <em>2018-10-12 19h55</em></div><p><p>Ça faisait partie des plans initiaux mais on était à court de temps :-(</p></p></li></ul><h2>Commentaires</h2><ul><li><div>Rola Priatel, <em>2018-10-28 00h40</em></div><p><p>So nice to read and see Beautiful British Columbia through your eyes! It was such joy to have you and Elida here for two weeks from the moment you landed and I drove the car without the keys until you had to hop in a car and drive us and our friends to the Belgian Restaurant Chambar ( an institution here in Vancouver for years) and we made you join us before you headed back to the house...and all the wonderful guitar lessons and life lessons you ended up teaching our boys by them just hanging out with you! We will never forget those beautiful days and we still talk about you two! Now on this blog you were too modest in not writing more about the treacherous Grouse Grind and you must have a photo from the top after you finished  the straight vertical climb!  Also I wish we had a photo of the full turkey on the Thanksgiving photo 😄 <br>As you say it was a shame that we didn’t get the chance to go to the island and the Juan de Fuca passage , but that’s for your next time! Start planning! Bon Voyage pour le reste de votre adventures...Love from the Priatel’s</p></p></li></ul>"
      ],
      "text/plain": [
       "<IPython.core.display.HTML object>"
      ]
     },
     "execution_count": 10,
     "metadata": {},
     "output_type": "execute_result"
    }
   ],
   "source": [
    "from IPython.display import HTML\n",
    "HTML(\"\".join(htmls.values()))"
   ]
  },
  {
   "cell_type": "code",
   "execution_count": 11,
   "metadata": {},
   "outputs": [
    {
     "data": {
      "text/plain": [
       "odict_keys(['6645732233', '6641311775', '6650763697', '6654637667', '6676813876', '6684882319', '6687556570', '6695191914', '6708926675', '6703528651', '6741046420', '6753644651', '6753759827', '6727164403', '6810510720', '6827540548', '6846800535', '6858178959', '6912768754', '6924405594', '7000727802'])"
      ]
     },
     "execution_count": 11,
     "metadata": {},
     "output_type": "execute_result"
    }
   ],
   "source": [
    "htmls.keys()"
   ]
  },
  {
   "cell_type": "markdown",
   "metadata": {},
   "source": [
    "# Ecriture des fichiers html sur le disque "
   ]
  },
  {
   "cell_type": "markdown",
   "metadata": {},
   "source": [
    "Now getting the threads from which we will write individual HTML files."
   ]
  },
  {
   "cell_type": "code",
   "execution_count": 12,
   "metadata": {},
   "outputs": [
    {
     "name": "stdout",
     "output_type": "stream",
     "text": [
      "writing bonjour-monde, id: 6641311775\n",
      "writing photographie-en-voyage, id: 6645732233\n",
      "writing pont-Occident-Orient, id: 6650763697\n",
      "writing bonjour-du-village, id: 6654637667\n",
      "writing elections-cedres, id: 6676813876\n",
      "writing tripoli-beyrouth-qadisha-saida, id: 6684882319\n",
      "writing manger-au-liban, id: 6687556570\n",
      "writing arrivee-en-russie, id: 6695191914\n",
      "writing au-revoir-liban, id: 6703528651\n",
      "writing crapahutages-moscova, id: 6708926675\n",
      "writing empire-du-milieu, id: 6727164403\n",
      "writing chine-pas-de-course, id: 6741046420\n",
      "writing impressions-chinoises, id: 6753644651\n",
      "writing konnichiwa, id: 6753759827\n",
      "writing nagano-osaka, id: 6810510720\n",
      "writing great-ocean-road, id: 6827540548\n",
      "writing animaux-australie, id: 6846800535\n",
      "writing polynesie-tahiti, id: 6858178959\n",
      "writing santiago-desert-atacama, id: 6912768754\n",
      "writing perou-machu-picchu, id: 6924405594\n",
      "writing vancouver-colombie-britannique, id: 7000727802\n"
     ]
    }
   ],
   "source": [
    "html_files = []\n",
    "for thread_elem in root.findall('dsq:thread', namespaces):\n",
    "    thread_id = list(thread_elem.attrib.values())[0]\n",
    "    url = thread_elem.find('dsq:link', namespaces).text\n",
    "    slug = url.split('/')[-1].split('.')[0]\n",
    "    if thread_id in htmls:\n",
    "        print(f'writing {slug}, id: {thread_id}')\n",
    "        fname = slug + '.html'\n",
    "        html_files.append(fname)\n",
    "        with open(fname, 'w') as f:\n",
    "            f.write(f\"\"\"<html>\n",
    "            <head><meta http-equiv=\"content-type\" content=\"text/html; charset=utf-8\"></head>\n",
    "            <body>{htmls[thread_id]}</body>\n",
    "            </html>\"\"\")\n",
    "            "
   ]
  },
  {
   "cell_type": "markdown",
   "metadata": {},
   "source": [
    "# Conversion en .tex "
   ]
  },
  {
   "cell_type": "markdown",
   "metadata": {},
   "source": [
    "And now using Pandoc to convert html to .tex for comment inclusion!"
   ]
  },
  {
   "cell_type": "code",
   "execution_count": 13,
   "metadata": {},
   "outputs": [
    {
     "name": "stdout",
     "output_type": "stream",
     "text": [
      "\\include{comments/comment_bonjour-monde}\n",
      "\\include{comments/comment_photographie-en-voyage}\n",
      "\\include{comments/comment_pont-Occident-Orient}\n",
      "\\include{comments/comment_bonjour-du-village}\n",
      "\\include{comments/comment_elections-cedres}\n",
      "\\include{comments/comment_tripoli-beyrouth-qadisha-saida}\n",
      "\\include{comments/comment_manger-au-liban}\n",
      "\\include{comments/comment_arrivee-en-russie}\n",
      "\\include{comments/comment_au-revoir-liban}\n",
      "\\include{comments/comment_crapahutages-moscova}\n",
      "\\include{comments/comment_empire-du-milieu}\n",
      "\\include{comments/comment_chine-pas-de-course}\n",
      "\\include{comments/comment_impressions-chinoises}\n",
      "\\include{comments/comment_konnichiwa}\n",
      "\\include{comments/comment_nagano-osaka}\n",
      "\\include{comments/comment_great-ocean-road}\n",
      "\\include{comments/comment_animaux-australie}\n",
      "\\include{comments/comment_polynesie-tahiti}\n",
      "\\include{comments/comment_santiago-desert-atacama}\n",
      "\\include{comments/comment_perou-machu-picchu}\n",
      "\\include{comments/comment_vancouver-colombie-britannique}\n"
     ]
    }
   ],
   "source": [
    "import os.path as op\n",
    "import subprocess\n",
    "\n",
    "comment_output_files = [\"comment_\" + comment_file.split('.html')[0] + '.tex' for comment_file in html_files]\n",
    "\n",
    "for inp, outp in zip(html_files, comment_output_files):\n",
    "    subprocess.call(f\"pandoc {inp} -o {outp}\",\n",
    "        shell=True)\n",
    "\n",
    "    print(\"\\\\include{comments/\" + outp[:-4] + \"}\")"
   ]
  },
  {
   "cell_type": "markdown",
   "metadata": {},
   "source": [
    "# Standalone latex files "
   ]
  },
  {
   "cell_type": "code",
   "execution_count": 14,
   "metadata": {},
   "outputs": [
    {
     "name": "stdout",
     "output_type": "stream",
     "text": [
      "\\include{comments/standalone_comment_bonjour-monde}\n",
      "\\include{comments/standalone_comment_photographie-en-voyage}\n",
      "\\include{comments/standalone_comment_pont-Occident-Orient}\n",
      "\\include{comments/standalone_comment_bonjour-du-village}\n",
      "\\include{comments/standalone_comment_elections-cedres}\n",
      "\\include{comments/standalone_comment_tripoli-beyrouth-qadisha-saida}\n",
      "\\include{comments/standalone_comment_manger-au-liban}\n",
      "\\include{comments/standalone_comment_arrivee-en-russie}\n",
      "\\include{comments/standalone_comment_au-revoir-liban}\n",
      "\\include{comments/standalone_comment_crapahutages-moscova}\n",
      "\\include{comments/standalone_comment_empire-du-milieu}\n",
      "\\include{comments/standalone_comment_chine-pas-de-course}\n",
      "\\include{comments/standalone_comment_impressions-chinoises}\n",
      "\\include{comments/standalone_comment_konnichiwa}\n",
      "\\include{comments/standalone_comment_nagano-osaka}\n",
      "\\include{comments/standalone_comment_great-ocean-road}\n",
      "\\include{comments/standalone_comment_animaux-australie}\n",
      "\\include{comments/standalone_comment_polynesie-tahiti}\n",
      "\\include{comments/standalone_comment_santiago-desert-atacama}\n",
      "\\include{comments/standalone_comment_perou-machu-picchu}\n",
      "\\include{comments/standalone_comment_vancouver-colombie-britannique}\n"
     ]
    }
   ],
   "source": [
    "import os.path as op\n",
    "import subprocess\n",
    "\n",
    "standalone_comment_output_files = [\"standalone_comment_\" + comment_file.split('.html')[0] + '.tex' for comment_file in html_files]\n",
    "\n",
    "for inp, outp in zip(html_files, standalone_comment_output_files):\n",
    "    subprocess.call(f\"pandoc {inp} -s -o {outp}\",\n",
    "        shell=True)\n",
    "\n",
    "    print(\"\\\\include{comments/\" + outp[:-4] + \"}\")"
   ]
  },
  {
   "cell_type": "code",
   "execution_count": null,
   "metadata": {},
   "outputs": [],
   "source": []
  }
 ],
 "metadata": {
  "kernelspec": {
   "display_name": "Python 3",
   "language": "python",
   "name": "python3"
  },
  "language_info": {
   "codemirror_mode": {
    "name": "ipython",
    "version": 3
   },
   "file_extension": ".py",
   "mimetype": "text/x-python",
   "name": "python",
   "nbconvert_exporter": "python",
   "pygments_lexer": "ipython3",
   "version": "3.7.6"
  }
 },
 "nbformat": 4,
 "nbformat_minor": 4
}
